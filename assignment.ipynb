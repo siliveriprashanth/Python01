{
 "cells": [
  {
   "cell_type": "markdown",
   "metadata": {},
   "source": [
    "1.WAP to check whether a number is positive. If Positive, print a message Positive."
   ]
  },
  {
   "cell_type": "code",
   "execution_count": null,
   "metadata": {},
   "outputs": [
    {
     "name": "stdout",
     "output_type": "stream",
     "text": [
      "the entered number is possitive\n"
     ]
    }
   ],
   "source": [
    "a=int(input(\"enter an number\"))\n",
    "if a>0:\n",
    "    print(\"the entered number is possitive\")\n",
    "elif a<0:\n",
    "    print(\"th entered number is negative\")\n",
    "else:\n",
    "    print(\"the entered number is zero\")"
   ]
  },
  {
   "cell_type": "markdown",
   "metadata": {},
   "source": [
    "2. WAP to display hello world if the number is greater than 1 and lesser than 5"
   ]
  },
  {
   "cell_type": "code",
   "execution_count": 3,
   "metadata": {},
   "outputs": [
    {
     "name": "stdout",
     "output_type": "stream",
     "text": [
      "Hello World\n"
     ]
    }
   ],
   "source": [
    "a=int(input(\"enter an number\"))\n",
    "if a>1 and a<5:\n",
    "    print(\"Hello World\")"
   ]
  },
  {
   "cell_type": "markdown",
   "metadata": {},
   "source": [
    "3. WAP to check whether the given number is divisible by 3 or not if print fizz."
   ]
  },
  {
   "cell_type": "code",
   "execution_count": 5,
   "metadata": {},
   "outputs": [
    {
     "name": "stdout",
     "output_type": "stream",
     "text": [
      "fizz\n"
     ]
    }
   ],
   "source": [
    "a=int(input(\"enter an number\"))\n",
    "if a%3==0:\n",
    "    print(\"the number is divisible by 3\")\n",
    "else:\n",
    "    print(\"fizz\")"
   ]
  },
  {
   "cell_type": "markdown",
   "metadata": {},
   "source": [
    "4. WAP to check whether given input is divisible by 2 and 6. If the condition is\n",
    "satisfied, convert the given number into a complex number."
   ]
  },
  {
   "cell_type": "code",
   "execution_count": 6,
   "metadata": {},
   "outputs": [
    {
     "name": "stdout",
     "output_type": "stream",
     "text": [
      "(24+0j)\n"
     ]
    }
   ],
   "source": [
    "a=int(input(\"enter an number\"))\n",
    "if a%2==0 and a%6==0:\n",
    "  print(complex(a))\n",
    "else :\n",
    "  print(\"the number is not divisible by 2 and 6\")\n"
   ]
  },
  {
   "cell_type": "markdown",
   "metadata": {},
   "source": [
    "5. WAP to check whether a given input is divisible by 3 or 5. If the condition is\n",
    "satisfied, the number is converted to a list."
   ]
  },
  {
   "cell_type": "code",
   "execution_count": 20,
   "metadata": {},
   "outputs": [
    {
     "name": "stdout",
     "output_type": "stream",
     "text": [
      "30\n",
      "['3', '0']\n"
     ]
    }
   ],
   "source": [
    "a=int(input(\"enter a value\"))\n",
    "if a%3==0 or a%5==0:\n",
    "    print(a)\n",
    "    string=str(a)\n",
    "    print(list(string))\n",
    "else:\n",
    "    print(\"the number is not divisible by 3 or 5\")"
   ]
  },
  {
   "cell_type": "markdown",
   "metadata": {},
   "source": [
    "6. Write a program to check whether a given number is multiple of 5 or not"
   ]
  },
  {
   "cell_type": "code",
   "execution_count": null,
   "metadata": {},
   "outputs": [
    {
     "name": "stdout",
     "output_type": "stream",
     "text": [
      "the given number is divisible by 5\n"
     ]
    }
   ],
   "source": [
    "a=int(input(\"enter an number\"))\n",
    "if a%5==0:\n",
    "    print(\"the given number is divisible by 5\")\n",
    "else:\n",
    "    print(\"the given number is not divisble by 5\")"
   ]
  },
  {
   "cell_type": "markdown",
   "metadata": {},
   "source": [
    "7. WAP to check whether the given input is 0 or not if 0 prints 0.\n"
   ]
  },
  {
   "cell_type": "code",
   "execution_count": 2,
   "metadata": {},
   "outputs": [
    {
     "name": "stdout",
     "output_type": "stream",
     "text": [
      "0\n"
     ]
    }
   ],
   "source": [
    "a=int(input(\"enter an value\"))\n",
    "if a==0:\n",
    "    print(a)"
   ]
  },
  {
   "cell_type": "markdown",
   "metadata": {},
   "source": [
    "8. WAP to check whether a number is negative. If negative, print a message negative."
   ]
  },
  {
   "cell_type": "code",
   "execution_count": 4,
   "metadata": {},
   "outputs": [],
   "source": [
    "a=int(input('enter a number'))\n",
    "if a<0:\n",
    "    print(\"the number is negative\")"
   ]
  },
  {
   "cell_type": "markdown",
   "metadata": {},
   "source": [
    "9. WAP to check whether a number is even or not. If even, store the value inside the\n",
    "list."
   ]
  },
  {
   "cell_type": "code",
   "execution_count": null,
   "metadata": {},
   "outputs": [
    {
     "name": "stdout",
     "output_type": "stream",
     "text": [
      "32 its an even\n",
      "['3', '2']\n"
     ]
    }
   ],
   "source": [
    "a=int(input(\"enter a value\"))\n",
    "if a%2==0:\n",
    "    print(a,\"is an even\")\n",
    "    string=str(a)\n",
    "    print(list(string))\n",
    "    "
   ]
  },
  {
   "cell_type": "markdown",
   "metadata": {},
   "source": [
    "10. WAP to check whether a number is odd or not. If odd, store the value inside the\n",
    "tuple."
   ]
  },
  {
   "cell_type": "code",
   "execution_count": 6,
   "metadata": {},
   "outputs": [
    {
     "name": "stdout",
     "output_type": "stream",
     "text": [
      "33 is an odd\n",
      "('3', '3')\n"
     ]
    }
   ],
   "source": [
    "a=int(input(\"enter a value\"))\n",
    "if a%2!=0:\n",
    "    print(a,\"is an odd\")\n",
    "    string=str(a)\n",
    "    print(tuple(string))"
   ]
  },
  {
   "cell_type": "markdown",
   "metadata": {},
   "source": [
    "11. WAP to check if the given number is even or not. if it is yes, to print the power of 4 in a given number."
   ]
  },
  {
   "cell_type": "code",
   "execution_count": null,
   "metadata": {},
   "outputs": [
    {
     "name": "stdout",
     "output_type": "stream",
     "text": [
      "331776 this is the 4th  power of given value\n"
     ]
    }
   ],
   "source": [
    "a=int(input(\"enter an value\"))\n",
    "if a%2==0:\n",
    "    print(a**4,\" is the 4th  power of given value\")"
   ]
  },
  {
   "cell_type": "markdown",
   "metadata": {},
   "source": [
    "12. WAP to take the input from the user as a number and check whether it is a number\n",
    "or not. if yes. take the number and add some value and print it."
   ]
  },
  {
   "cell_type": "code",
   "execution_count": 18,
   "metadata": {},
   "outputs": [
    {
     "name": "stdout",
     "output_type": "stream",
     "text": [
      "30\n"
     ]
    }
   ],
   "source": [
    "a=int(input(\"take any input\"))\n",
    "if a==a:\n",
    "    b=a+10\n",
    "    print(b)\n",
    "    \n",
    "    "
   ]
  },
  {
   "cell_type": "markdown",
   "metadata": {},
   "source": [
    "13. WAP to check whether a given value is divisible by 5 and 7. If the value is\n",
    "divisible,to display the square of the values."
   ]
  },
  {
   "cell_type": "code",
   "execution_count": 16,
   "metadata": {},
   "outputs": [
    {
     "name": "stdout",
     "output_type": "stream",
     "text": [
      "the number is divisible by 5 and 7 \n",
      "4900 is the square of an value\n"
     ]
    }
   ],
   "source": [
    "a=int(input('enter an value'))\n",
    "if a%5==0 and a%7==0:\n",
    "    print(\"the number is divisible by 5 and 7 \")\n",
    "    print(a**2,\"is the square of an value\")"
   ]
  },
  {
   "cell_type": "markdown",
   "metadata": {},
   "source": [
    "14. WAP to check whether the given value's last digit is greater than 5 or not.if greater,to perform the bitwise right shift operator (skipping value is 2)\n",
    " "
   ]
  },
  {
   "cell_type": "code",
   "execution_count": null,
   "metadata": {},
   "outputs": [],
   "source": []
  },
  {
   "cell_type": "markdown",
   "metadata": {},
   "source": [
    "15. WAP to check whether a given value is divisible by 3 and less than 30. If the value is divisible,to display the square of the values."
   ]
  },
  {
   "cell_type": "code",
   "execution_count": 19,
   "metadata": {},
   "outputs": [
    {
     "name": "stdout",
     "output_type": "stream",
     "text": [
      "the number is divisible by 3\n",
      "729 is the square\n"
     ]
    }
   ],
   "source": [
    "a=int(input('enter a value'))\n",
    "if a%3==0 and a<30:\n",
    "    print(\"the number is divisible by 3\")\n",
    "    print(a**2,\"is the square\")"
   ]
  },
  {
   "cell_type": "markdown",
   "metadata": {},
   "source": [
    "16. WAP to check whether a given value is an even number and divisible by 4. If\n",
    "satisfied ,to display the cube of the values.\n"
   ]
  },
  {
   "cell_type": "code",
   "execution_count": 20,
   "metadata": {},
   "outputs": [
    {
     "name": "stdout",
     "output_type": "stream",
     "text": [
      "the number is even number and divisible by 4\n",
      "21952 is the cube\n"
     ]
    }
   ],
   "source": [
    "a=int(input('enter a value'))\n",
    "if a%2==0 and a%4==0:\n",
    "    print(\"the number is even number and divisible by 4\")\n",
    "    print(a**3,\"is the cube\")"
   ]
  },
  {
   "cell_type": "markdown",
   "metadata": {},
   "source": [
    "17. WAP to check whether a given value is even or not. If the even number stores the\n",
    "value inside the list."
   ]
  },
  {
   "cell_type": "code",
   "execution_count": 67,
   "metadata": {},
   "outputs": [
    {
     "name": "stdout",
     "output_type": "stream",
     "text": [
      "30 is an even\n",
      "['3', '0']\n"
     ]
    }
   ],
   "source": [
    "a=int(input('enter a value'))\n",
    "if a%2==0 :\n",
    "    print(a,\"is an even\")\n",
    "    b=str(a)\n",
    "    print(list(b))"
   ]
  },
  {
   "cell_type": "markdown",
   "metadata": {},
   "source": [
    "18. WAP to check whether a given value is a negative or even number. If satisfied ,to\n",
    "display the last digit of the values."
   ]
  },
  {
   "cell_type": "code",
   "execution_count": null,
   "metadata": {},
   "outputs": [
    {
     "name": "stdout",
     "output_type": "stream",
     "text": [
      "24\n",
      "4\n"
     ]
    }
   ],
   "source": [
    "a=int(input(\"enter\"))    \n",
    "if a<0 or a%2==0:\n",
    "    print(a)\n",
    "    string=str(a)\n",
    "    print(string[len(string)-1])"
   ]
  },
  {
   "cell_type": "markdown",
   "metadata": {},
   "source": [
    "19. WAP to check whether a given value is a negative or odd number and divisible by 4.\n",
    "If satisfied ,to display the cube of the values."
   ]
  },
  {
   "cell_type": "code",
   "execution_count": 32,
   "metadata": {},
   "outputs": [],
   "source": [
    "a=int(input(\"enter\"))    \n",
    "if a<0 or a%2!=0 and a%4==0:\n",
    "    print(a**3)"
   ]
  },
  {
   "cell_type": "markdown",
   "metadata": {},
   "source": [
    "20. WAP to check whether a given ascii value is divisible by 4 and even value. If\n",
    "satisfied, to display the ascii character."
   ]
  },
  {
   "cell_type": "code",
   "execution_count": 63,
   "metadata": {},
   "outputs": [
    {
     "name": "stdout",
     "output_type": "stream",
     "text": [
      "|\n"
     ]
    }
   ],
   "source": [
    "a=int(input(\"enter ascii value\"))\n",
    "if a%4==0 and a%2==0:\n",
    "    b=chr(a)\n",
    "    print(b)"
   ]
  },
  {
   "cell_type": "markdown",
   "metadata": {},
   "source": [
    "21. WAP to check whether a given value is present in between 45 to 125 and the number\n",
    "should be divisible by 4 and 5 and even value. If satisfied, to display the ascii\n",
    "character.\n"
   ]
  },
  {
   "cell_type": "code",
   "execution_count": 65,
   "metadata": {},
   "outputs": [
    {
     "name": "stdout",
     "output_type": "stream",
     "text": [
      "<\n"
     ]
    }
   ],
   "source": [
    "a=int(input('enter an value'))\n",
    "if a>45 and a<125 and a%4==0 and a%5==0:\n",
    "    b=chr(a)\n",
    "    print(b)"
   ]
  },
  {
   "cell_type": "markdown",
   "metadata": {},
   "source": [
    "22. WAP to check whether a given value is present in between 25 to 100 and the number\n",
    "should be divisible by 4 and 5. If satisfied, to display multiplication of given value\n",
    "with 5.\n"
   ]
  },
  {
   "cell_type": "code",
   "execution_count": 69,
   "metadata": {},
   "outputs": [
    {
     "name": "stdout",
     "output_type": "stream",
     "text": [
      "300 is the multiplication of a given value with 5\n"
     ]
    }
   ],
   "source": [
    "a=int(input(\"enter an number\"))\n",
    "if a>25 and a<100 and a%4==0 and a%5==0:\n",
    "    print(a*5,\"is the multiplication of a given value with 5\")"
   ]
  },
  {
   "cell_type": "markdown",
   "metadata": {},
   "source": [
    "23. WAP to check whether a given number is an integer and odd number. If the\n",
    "condition is satisfied, the integer is divisible by 5 and displays the result.\n"
   ]
  },
  {
   "cell_type": "code",
   "execution_count": null,
   "metadata": {},
   "outputs": [],
   "source": [
    "a=input(\"enter an value\")\n",
    "b=int(a)\n",
    "if  b%2!=0:\n",
    "    print(b/5,\"the number is divisible by 5\")"
   ]
  },
  {
   "cell_type": "markdown",
   "metadata": {},
   "source": [
    "24. WAP to check whether a given value is an integer or not. If integer, the given value\n",
    "is converted to string and displays the result."
   ]
  },
  {
   "cell_type": "code",
   "execution_count": null,
   "metadata": {},
   "outputs": [],
   "source": [
    "a=int(input(\"enetr an number\"))\n"
   ]
  },
  {
   "cell_type": "markdown",
   "metadata": {},
   "source": [
    "25. WAP to check whether a given value is less than 125 and greater than 60 or not. If\n",
    "the condition is satisfied, take the name and extract the middle character and\n",
    "display it."
   ]
  },
  {
   "cell_type": "markdown",
   "metadata": {},
   "source": [
    "53. WAP to check whether a number is positive or negative. If Positive print positive\n",
    "message or else print Negative Number.\n"
   ]
  },
  {
   "cell_type": "code",
   "execution_count": 2,
   "metadata": {},
   "outputs": [
    {
     "name": "stdout",
     "output_type": "stream",
     "text": [
      "the entered value is negative\n"
     ]
    }
   ],
   "source": [
    "a=int(input(\"enter an value\"))\n",
    "if a>0:\n",
    "    print(\"the entered number is positive\")\n",
    "else:\n",
    "    print(\"the entered value is negative\")"
   ]
  },
  {
   "cell_type": "markdown",
   "metadata": {},
   "source": [
    "54. WAP to check whether a number is even or odd. If even, print message an even or\n",
    "else print message as odd.\n"
   ]
  },
  {
   "cell_type": "code",
   "execution_count": 4,
   "metadata": {},
   "outputs": [
    {
     "name": "stdout",
     "output_type": "stream",
     "text": [
      "the entered value is odd number\n"
     ]
    }
   ],
   "source": [
    "a=int(input(\"enter an value\"))\n",
    "if a%2==0:\n",
    "    print(\"the entered number is even number\")\n",
    "else:\n",
    "    print(\"the entered value is odd number\")"
   ]
  },
  {
   "cell_type": "markdown",
   "metadata": {},
   "source": [
    "55. Write a program to check whether a given number is greater than 10 or not. if it is\n",
    "greater than 10 print message as greater or else print that number with not a greater\n",
    "than.\n"
   ]
  },
  {
   "cell_type": "code",
   "execution_count": null,
   "metadata": {},
   "outputs": [
    {
     "name": "stdout",
     "output_type": "stream",
     "text": [
      "the entered value is not greater\n"
     ]
    }
   ],
   "source": [
    "a=int(input(\"enter an value\"))\n",
    "if a>10:\n",
    "    print(\"the entered number is greater \")\n",
    "else:\n",
    "    print(\"the entered value is not greater\")   "
   ]
  },
  {
   "cell_type": "markdown",
   "metadata": {},
   "source": [
    "56. WAP to check whether a given value is present in between 45 to 125. If value is\n",
    "present print the value if not print as nill"
   ]
  },
  {
   "cell_type": "code",
   "execution_count": 8,
   "metadata": {},
   "outputs": [
    {
     "name": "stdout",
     "output_type": "stream",
     "text": [
      "null\n"
     ]
    }
   ],
   "source": [
    "a=int(input(\"enter an value\"))\n",
    "if a>45 and a<125:\n",
    "    print(a)\n",
    "else:\n",
    "    print(\"null\")"
   ]
  },
  {
   "cell_type": "markdown",
   "metadata": {},
   "source": [
    "57. WAP to check whether the given two input numbers are divisible by 3 and 5. If it is\n",
    "divisible, print “Good Morning”, if it is not print “Good Evening”.\n"
   ]
  },
  {
   "cell_type": "code",
   "execution_count": null,
   "metadata": {},
   "outputs": [
    {
     "name": "stdout",
     "output_type": "stream",
     "text": [
      "good morning\n"
     ]
    }
   ],
   "source": [
    "a=int(input('enter an value'))\n",
    "b=int(input('enter an value'))\n",
    "if a%3==0 and a%5==0 and b%3==0 and b%5==0:\n",
    "    print(\"good morning\")\n",
    "else:\n",
    "    print(\"good evening\")"
   ]
  },
  {
   "cell_type": "markdown",
   "metadata": {},
   "source": [
    "58. WAP to accept two integers and check whether they are equal or not.\n",
    "If equal, multiply to value  and display it otherwise display as nill.\n"
   ]
  },
  {
   "cell_type": "code",
   "execution_count": 20,
   "metadata": {},
   "outputs": [
    {
     "name": "stdout",
     "output_type": "stream",
     "text": [
      "225 multiplication\n"
     ]
    }
   ],
   "source": [
    "a=int(input('enter an value'))\n",
    "b=int(input('enter an value'))\n",
    "if a==b:\n",
    "    # print(a)\n",
    "    # string=int(a)\n",
    "    # print(b)\n",
    "    # string2=int(b)\n",
    "    print(a*b,\"multiplication\")\n",
    "else:\n",
    "    print(\"nill\")"
   ]
  },
  {
   "cell_type": "markdown",
   "metadata": {},
   "source": [
    "59. WAP to find the largest of two numbers.\n"
   ]
  },
  {
   "cell_type": "code",
   "execution_count": 21,
   "metadata": {},
   "outputs": [
    {
     "name": "stdout",
     "output_type": "stream",
     "text": [
      "30 is largest number\n"
     ]
    }
   ],
   "source": [
    "a=int(input(\"enter an number\"))\n",
    "b=int(input(\"enter an number\"))\n",
    "c=int(input(\"enter an number\"))\n",
    "if a>b and a>b:\n",
    "    print(a,\"is largest number\")\n",
    "elif b>a and b>c:\n",
    "    print(b,\"is the largest number\")\n",
    "else:\n",
    "    print(c,\"is the largest\")"
   ]
  },
  {
   "cell_type": "markdown",
   "metadata": {},
   "source": [
    "60. WAP to check whether the input number is greater than 10 or not if it is greater than\n",
    "10 print messages as greater with print that number. if that number is not greater\n",
    "than 10 print that number.\n"
   ]
  },
  {
   "cell_type": "code",
   "execution_count": 24,
   "metadata": {},
   "outputs": [
    {
     "name": "stdout",
     "output_type": "stream",
     "text": [
      "3\n"
     ]
    }
   ],
   "source": [
    "a=int(input(\"enter an number\"))\n",
    "if a>10:\n",
    "    print(a,\"the value is greater than 10\")\n",
    "else:\n",
    "    print(a)"
   ]
  },
  {
   "cell_type": "markdown",
   "metadata": {},
   "source": [
    "61. WAP to the given number integer, if n is greater than 21,print the absolute\n",
    "difference between n and 21 otherwise print twice the absolute difference"
   ]
  },
  {
   "cell_type": "code",
   "execution_count": 26,
   "metadata": {},
   "outputs": [
    {
     "name": "stdout",
     "output_type": "stream",
     "text": [
      "40 is the twice of a number\n"
     ]
    }
   ],
   "source": [
    "n=int(input(\"enter an number\"))\n",
    "if n>21:\n",
    "    print(n-21,\"is the absolute difference\")\n",
    "else:\n",
    "    print(n*2,\"is the twice of a number\")"
   ]
  },
  {
   "cell_type": "markdown",
   "metadata": {},
   "source": [
    "62. WAP to find the smallest of two numbers."
   ]
  },
  {
   "cell_type": "code",
   "execution_count": 29,
   "metadata": {},
   "outputs": [
    {
     "name": "stdout",
     "output_type": "stream",
     "text": [
      "10 is the smallest number\n"
     ]
    }
   ],
   "source": [
    "a=int(input(\"enter an number\"))\n",
    "b=int(input(\"enter an number\"))\n",
    "c=int(input(\"enter an number\"))\n",
    "if a<b and a<b:\n",
    "    print(a,\"is smallest number\")\n",
    "elif b<a and b<c:\n",
    "    print(b,\"is the smallest number\")\n",
    "else:\n",
    "    print(c,\"is the smallest\")"
   ]
  },
  {
   "cell_type": "markdown",
   "metadata": {},
   "source": [
    "63. WAP to check whether the given number is even or odd. If it is even then make it as\n",
    "an add number, if it is an odd number then make it as even number.\n"
   ]
  },
  {
   "cell_type": "code",
   "execution_count": 34,
   "metadata": {},
   "outputs": [
    {
     "name": "stdout",
     "output_type": "stream",
     "text": [
      "it is even number we are changing to odd 23\n"
     ]
    }
   ],
   "source": [
    "a=int(input(\"enter an value\"))\n",
    "if a%2==0:\n",
    "    print(\"it is even number we are changing to odd\",a+1)\n",
    "else:\n",
    "    print(\"it is odd number we are changing to even\",a*2)"
   ]
  },
  {
   "cell_type": "markdown",
   "metadata": {},
   "source": [
    "64. WAP to check whether the given number is divisible by 3 or not if yes,print the\n",
    "number or else print the cube of the numbers."
   ]
  },
  {
   "cell_type": "code",
   "execution_count": 36,
   "metadata": {},
   "outputs": [
    {
     "name": "stdout",
     "output_type": "stream",
     "text": [
      "343 is the cube of an value\n"
     ]
    }
   ],
   "source": [
    "a=int(input(\"enter an value\"))\n",
    "if a%3==0:\n",
    "    print(a)\n",
    "else:\n",
    "    print(a**3,\"is the cube of an value\")"
   ]
  },
  {
   "cell_type": "markdown",
   "metadata": {},
   "source": [
    "65. WAP to check whether the given input is divisible by 3 and 5. If yes print the actual\n",
    "number or else print string of that number."
   ]
  },
  {
   "cell_type": "code",
   "execution_count": 41,
   "metadata": {},
   "outputs": [
    {
     "name": "stdout",
     "output_type": "stream",
     "text": [
      "25\n"
     ]
    }
   ],
   "source": [
    "a=int(input(\"enter an number\"))\n",
    "if a%3==0 and a%5==0:\n",
    "    print(a,\"the number is divisible by 3 and 5\")\n",
    "else:\n",
    "    b=str(a)\n",
    "    print(b)"
   ]
  },
  {
   "cell_type": "markdown",
   "metadata": {},
   "source": [
    "66. WAP to check whether the given number lies between 1 to 19, if it is true square that\n",
    "number or else false cube that number and display the number."
   ]
  },
  {
   "cell_type": "code",
   "execution_count": 45,
   "metadata": {},
   "outputs": [
    {
     "name": "stdout",
     "output_type": "stream",
     "text": [
      "289 is the square of  17\n"
     ]
    }
   ],
   "source": [
    "a=int(input(\"neter an number\"))\n",
    "if a>9 and a<19:\n",
    "    print(a**2,\"is the square of \",a)\n",
    "else:\n",
    "    print(a**3,\"is the cube of\",a)"
   ]
  },
  {
   "cell_type": "markdown",
   "metadata": {},
   "source": [
    "\n",
    "67. WAP to check whether the student has passed or failed. If the student got more than\n",
    "40 marks, print ‘PASS’ along with those marks, if it is not printed ‘FAIL’ along with\n",
    "those marks."
   ]
  },
  {
   "cell_type": "code",
   "execution_count": null,
   "metadata": {},
   "outputs": [
    {
     "name": "stdout",
     "output_type": "stream",
     "text": [
      "the studemt failed in the exam 39\n"
     ]
    }
   ],
   "source": [
    "marks=int(input(\"enetr marks of an student\"))\n",
    "if marks>40:\n",
    "    print(\"the student is passed and his score is\",marks)\n",
    "else:\n",
    "    print(\"the studemt failed in the exam and his score is\",marks)"
   ]
  },
  {
   "cell_type": "markdown",
   "metadata": {},
   "source": [
    "68. WAP to check whether a given value is even and in range of 47 to 58 and not in 0 or\n",
    "odd. if condition is True, to perform display the ascii character.or else to perform\n",
    "floor division with 5 and display it.\n"
   ]
  },
  {
   "cell_type": "code",
   "execution_count": null,
   "metadata": {},
   "outputs": [
    {
     "name": "stdout",
     "output_type": "stream",
     "text": [
      "0\n"
     ]
    }
   ],
   "source": [
    "a=int(input('neter an number'))\n",
    "if a%2==0 and (a>47 and a<58) and a%2!=0 and a!=0:\n",
    "    print(chr(a))\n",
    "else:\n",
    "    print(a//5) "
   ]
  },
  {
   "cell_type": "markdown",
   "metadata": {},
   "source": [
    "69. WAP to check whether a given value is less than 125 and in between 47 to 125 or not.\n",
    "if condition is True, to perform store the given value as key and value as a character\n",
    "into the dict.or else to append the value in list and display it."
   ]
  },
  {
   "cell_type": "code",
   "execution_count": null,
   "metadata": {},
   "outputs": [],
   "source": []
  },
  {
   "cell_type": "markdown",
   "metadata": {},
   "source": [
    "70. WAP to check whether a given character is in the alphabet or not. if alphabet,\n",
    "display the alphabet with character.or else display the not alphabet with character.\n"
   ]
  },
  {
   "cell_type": "code",
   "execution_count": 31,
   "metadata": {},
   "outputs": [
    {
     "name": "stdout",
     "output_type": "stream",
     "text": [
      "it is an charecter\n"
     ]
    }
   ],
   "source": [
    "a=input(\"enter charecter\")\n",
    "b=int(a)\n",
    "if b>=65 and b<=90 and b>=97 and b<=122:\n",
    "    print(chr(b),\"it is an alphabet\")\n",
    "else:\n",
    "    print(\"it is an charecter\")\n",
    "\n",
    "\n"
   ]
  }
 ],
 "metadata": {
  "kernelspec": {
   "display_name": "Python 3",
   "language": "python",
   "name": "python3"
  },
  "language_info": {
   "codemirror_mode": {
    "name": "ipython",
    "version": 3
   },
   "file_extension": ".py",
   "mimetype": "text/x-python",
   "name": "python",
   "nbconvert_exporter": "python",
   "pygments_lexer": "ipython3",
   "version": "3.13.0"
  }
 },
 "nbformat": 4,
 "nbformat_minor": 2
}
