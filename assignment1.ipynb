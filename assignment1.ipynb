{
 "cells": [
  {
   "cell_type": "markdown",
   "metadata": {},
   "source": [
    "assignment 1\n",
    "1.wap to print palindrome using functions\n",
    "2.wap to print armstrong using functions\n",
    "3.wap to print prime using functions\n",
    "4.wap to print fibonaci using functions\n",
    "5.wap to print factorials of a given number using functions\n",
    "6.wap to print perfect number using functions\n",
    "7.wap to print spy number using functions"
   ]
  },
  {
   "cell_type": "code",
   "execution_count": null,
   "metadata": {},
   "outputs": [
    {
     "name": "stdout",
     "output_type": "stream",
     "text": [
      "12321 palindrome\n"
     ]
    }
   ],
   "source": [
    "# 1.wap to print palindrome using functions\n",
    "def palindrome(num):\n",
    "    num=str(num)\n",
    "    if num==num[::-1]:\n",
    "        print(num,\"palindrome\")\n",
    "    else:  \n",
    "        print(num,\"not palindrome\")\n",
    "palindrome(12321)"
   ]
  },
  {
   "cell_type": "code",
   "execution_count": null,
   "metadata": {},
   "outputs": [
    {
     "name": "stdout",
     "output_type": "stream",
     "text": [
      "armstrong\n"
     ]
    }
   ],
   "source": [
    "# 2.wap to print armstrong using functions\n",
    "def armstrong(num):\n",
    "    sum=0\n",
    "    temp=num\n",
    "    temp1=num\n",
    "    count=0\n",
    "    while num>0:\n",
    "        count+=1\n",
    "        num//=10\n",
    "    while temp>0:\n",
    "        ld=temp%10\n",
    "        sum+=(ld**count)\n",
    "        temp//=10\n",
    "    if sum==temp1:\n",
    "        print(\"armstrong\")\n",
    "    else:\n",
    "        print(\"not a armstrong\")\n",
    "armstrong(153)"
   ]
  },
  {
   "cell_type": "code",
   "execution_count": null,
   "metadata": {},
   "outputs": [
    {
     "name": "stdout",
     "output_type": "stream",
     "text": [
      "5 prime number\n"
     ]
    }
   ],
   "source": [
    "# 3.wap to print prime using functions\n",
    "def primeornot(num):\n",
    "    i=1\n",
    "    count=0\n",
    "    while i<=num:\n",
    "        if num%i==0:\n",
    "            count+=1\n",
    "        i+=1\n",
    "    if count==2:\n",
    "        print(num,\"prime number\")\n",
    "    else:\n",
    "        print(num,\"not a prime number\")\n",
    "primeornot(5)\n",
    "    "
   ]
  },
  {
   "cell_type": "code",
   "execution_count": null,
   "metadata": {},
   "outputs": [
    {
     "name": "stdout",
     "output_type": "stream",
     "text": [
      "0\n",
      "1\n",
      "1\n",
      "2\n",
      "3\n"
     ]
    }
   ],
   "source": [
    "# 4.wap to print fibonaci using functions\n",
    "def fibo(num):\n",
    "    p1=0\n",
    "    p2=1\n",
    "    i=1\n",
    "    while i<=num:\n",
    "        print(p1)\n",
    "        next=p1+p2\n",
    "        p1=p2\n",
    "        p2=next\n",
    "        i+=1\n",
    "fibo(5)"
   ]
  },
  {
   "cell_type": "code",
   "execution_count": null,
   "metadata": {},
   "outputs": [
    {
     "name": "stdout",
     "output_type": "stream",
     "text": [
      "720\n"
     ]
    }
   ],
   "source": [
    "# 5.wap to print factorials of a given number using functions\n",
    "def factorial(num):\n",
    "    i=1\n",
    "    f=1\n",
    "    while i<=num:\n",
    "        f*=i\n",
    "        i+=1\n",
    "    print(f)\n",
    "factorial(6)"
   ]
  },
  {
   "cell_type": "code",
   "execution_count": null,
   "metadata": {},
   "outputs": [
    {
     "name": "stdout",
     "output_type": "stream",
     "text": [
      "6 perfect number\n"
     ]
    }
   ],
   "source": [
    "# 6.wap to print perfect number using functions\n",
    "def perfect(num):\n",
    "    i=1\n",
    "    sum=0\n",
    "    while i<num:\n",
    "        if num%i==0:\n",
    "            sum+=i\n",
    "        i+=1\n",
    "    if sum==num:\n",
    "        print(num,\"perfect number\")\n",
    "    else:\n",
    "        print(num,\"not a perfect number\")\n",
    "perfect(6)"
   ]
  },
  {
   "cell_type": "code",
   "execution_count": null,
   "metadata": {},
   "outputs": [
    {
     "name": "stdout",
     "output_type": "stream",
     "text": [
      "0 spy number\n"
     ]
    }
   ],
   "source": [
    "# 7.wap to print spy number using functions\n",
    "def spy(num):\n",
    "    sum=0\n",
    "    product=1\n",
    "    while num>0:\n",
    "        ld=num%10\n",
    "        sum+=ld\n",
    "        product*=ld\n",
    "        num//=10\n",
    "    if sum==product:\n",
    "        print(num,\"spy number\")\n",
    "    else:\n",
    "        print(num,\"not a spy number\")\n",
    "spy(1124)"
   ]
  },
  {
   "cell_type": "markdown",
   "metadata": {},
   "source": [
    "assignment2\n",
    "1)wap to print sum of prime digits in a given number\n",
    "2)wap to print product of perfect digits of a given number\n",
    "3)wap to print sum of the digits in a given number whose factorial is less than 100\n",
    "\n"
   ]
  },
  {
   "cell_type": "code",
   "execution_count": null,
   "metadata": {},
   "outputs": [
    {
     "name": "stdout",
     "output_type": "stream",
     "text": [
      "17\n"
     ]
    }
   ],
   "source": [
    "# wap to print sum of prime digits in a given number\n",
    "def isprime(num):\n",
    "    i=1\n",
    "    count=0\n",
    "    while i<=num:\n",
    "        if num%i==0:\n",
    "            count+=1\n",
    "        i+=1\n",
    "    if count==2:\n",
    "       return True\n",
    "    False\n",
    "def sumofdigits(num):\n",
    "    sum=0\n",
    "    while num>0:\n",
    "        digit=num%10\n",
    "        if isprime(digit)==True:\n",
    "            sum+=digit\n",
    "        num//=10\n",
    "    return sum\n",
    "print(sumofdigits(int(input())))"
   ]
  },
  {
   "cell_type": "code",
   "execution_count": null,
   "metadata": {},
   "outputs": [
    {
     "name": "stdout",
     "output_type": "stream",
     "text": [
      "216\n"
     ]
    }
   ],
   "source": [
    "# 2)wap to print product of perfect digits of a given number\n",
    "def perfect(num):\n",
    "    i=1\n",
    "    sum=0\n",
    "    while i<num:\n",
    "        if num%i==0:\n",
    "            sum+=i\n",
    "        i+=1\n",
    "    if sum==num:\n",
    "        return True\n",
    "    False\n",
    "def proofdigits(num):\n",
    "    pro=1\n",
    "    while num>0:\n",
    "        digit=num%10\n",
    "        if perfect(digit)==True:\n",
    "            pro*=digit\n",
    "        num//=10\n",
    "    return pro\n",
    "print(proofdigits())"
   ]
  },
  {
   "cell_type": "code",
   "execution_count": null,
   "metadata": {},
   "outputs": [
    {
     "name": "stdout",
     "output_type": "stream",
     "text": [
      "8\n"
     ]
    }
   ],
   "source": [
    "# 3)wap to print sum of the digits in a given number whose factorial is less than 100\n",
    "def isfactorial(num):\n",
    "    i=1\n",
    "    f=1\n",
    "    while i<=num:\n",
    "        f*=i\n",
    "        i+=1\n",
    "    if f<=100:\n",
    "        return True\n",
    "    False\n",
    "def sumofdigits(num):\n",
    "    sum=0\n",
    "    while num>0:\n",
    "        digit=num%10\n",
    "        if isfactorial(digit)==True:\n",
    "            sum+=digit\n",
    "        num//=10\n",
    "    return sum\n",
    "print(sumofdigits(544))"
   ]
  }
 ],
 "metadata": {
  "kernelspec": {
   "display_name": "Python 3",
   "language": "python",
   "name": "python3"
  },
  "language_info": {
   "codemirror_mode": {
    "name": "ipython",
    "version": 3
   },
   "file_extension": ".py",
   "mimetype": "text/x-python",
   "name": "python",
   "nbconvert_exporter": "python",
   "pygments_lexer": "ipython3",
   "version": "3.13.0"
  }
 },
 "nbformat": 4,
 "nbformat_minor": 2
}
