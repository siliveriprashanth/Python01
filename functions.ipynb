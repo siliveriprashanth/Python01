{
 "cells": [
  {
   "cell_type": "code",
   "execution_count": 6,
   "metadata": {},
   "outputs": [
    {
     "name": "stdout",
     "output_type": "stream",
     "text": [
      "hello bablu\n",
      "hello bunny\n",
      "hello nani\n",
      "hello neena\n"
     ]
    }
   ],
   "source": [
    "def bablu():\n",
    "    print(\"hello bablu\")\n",
    "def bunny():\n",
    "    print(\"hello bunny\")\n",
    "def nani():\n",
    "    print(\"hello nani\")\n",
    "def neena():\n",
    "    print(\"hello neena\")\n",
    "\n",
    "\n",
    "\n",
    "bablu()\n",
    "bunny()\n",
    "nani()\n",
    "neena()"
   ]
  },
  {
   "cell_type": "code",
   "execution_count": 5,
   "metadata": {},
   "outputs": [
    {
     "name": "stdout",
     "output_type": "stream",
     "text": [
      "40\n"
     ]
    }
   ],
   "source": [
    "def sum(a,b):\n",
    "    res=(a+b)\n",
    "    print(res)\n",
    "sum(10,30)"
   ]
  },
  {
   "cell_type": "code",
   "execution_count": 1,
   "metadata": {},
   "outputs": [
    {
     "name": "stdout",
     "output_type": "stream",
     "text": [
      "hello i have ran 5 kms\n"
     ]
    }
   ],
   "source": [
    "def run(d):\n",
    "    print(\"hello i have ran\",d, \"kms\")\n",
    "run(5)"
   ]
  },
  {
   "cell_type": "code",
   "execution_count": 4,
   "metadata": {},
   "outputs": [
    {
     "name": "stdout",
     "output_type": "stream",
     "text": [
      "even\n",
      "not even\n"
     ]
    }
   ],
   "source": [
    "def even(n):\n",
    "    if n%2==0:\n",
    "        print(\"even\")\n",
    "    else:\n",
    "        print(\"not even\")\n",
    "even(6)\n",
    "even(5)"
   ]
  },
  {
   "cell_type": "code",
   "execution_count": 26,
   "metadata": {},
   "outputs": [
    {
     "name": "stdout",
     "output_type": "stream",
     "text": [
      "108.88888888888889 is the fahrenheit of 228\n"
     ]
    }
   ],
   "source": [
    "def fahrenheit(f):\n",
    "    c=(f-32)*5/9\n",
    "    print(c,\"is the fahrenheit of\",f)\n",
    "fahrenheit(228)\n",
    "    "
   ]
  },
  {
   "cell_type": "code",
   "execution_count": 28,
   "metadata": {},
   "outputs": [
    {
     "name": "stdout",
     "output_type": "stream",
     "text": [
      "227.9999999984  is the celcious of 108.888888888\n"
     ]
    }
   ],
   "source": [
    "def celcious(c):\n",
    "    f=c*9/5+32\n",
    "    print(f,\" is the celcious of\",c)\n",
    "celcious(108.888888888)"
   ]
  },
  {
   "cell_type": "code",
   "execution_count": 4,
   "metadata": {},
   "outputs": [
    {
     "name": "stdout",
     "output_type": "stream",
     "text": [
      "157.0  is the area f an circle\n"
     ]
    }
   ],
   "source": [
    "def radius(r):\n",
    "    area=2*3.14*r*r\n",
    "    print(area,\" is the area f an circle\")\n",
    "radius(5)"
   ]
  },
  {
   "cell_type": "code",
   "execution_count": 10,
   "metadata": {},
   "outputs": [
    {
     "name": "stdout",
     "output_type": "stream",
     "text": [
      "4500.0 is the final price after discount of 500.0\n"
     ]
    }
   ],
   "source": [
    "def price_discount(p,d):\n",
    "    price=p-p*d/100\n",
    "    discount=p*d/100\n",
    "    print(price ,\"is the final price after discount of\",discount)\n",
    "price_discount(5000,10)\n"
   ]
  },
  {
   "cell_type": "code",
   "execution_count": 13,
   "metadata": {},
   "outputs": [
    {
     "name": "stdout",
     "output_type": "stream",
     "text": [
      "5000 are  the meters of  5 kilometers\n"
     ]
    }
   ],
   "source": [
    "def km_meters(km):\n",
    "    print(km*1000,\"are  the meters of \",km,\"kilometers\")\n",
    "km_meters(5)"
   ]
  },
  {
   "cell_type": "code",
   "execution_count": 19,
   "metadata": {},
   "outputs": [
    {
     "name": "stdout",
     "output_type": "stream",
     "text": [
      "9 is odd\n"
     ]
    }
   ],
   "source": [
    "def even_odd(num):\n",
    "    if num%2==0:\n",
    "        print(num,\"is even\")\n",
    "    else:\n",
    "        print(num,\"is odd\")\n",
    "even_odd(9)"
   ]
  },
  {
   "cell_type": "code",
   "execution_count": 21,
   "metadata": {},
   "outputs": [
    {
     "name": "stdout",
     "output_type": "stream",
     "text": [
      "A uppercase letter\n"
     ]
    }
   ],
   "source": [
    "def upc_lc(ch):\n",
    "    if 'A'<=ch<='Z':\n",
    "        print(ch , \"uppercase letter\")\n",
    "    elif 'a'<=ch<='z':\n",
    "        print(ch,\"lower case\")\n",
    "    else:\n",
    "        print(ch,\"is not an lowercare or uppercase\")\n",
    "upc_lc('A')"
   ]
  },
  {
   "cell_type": "code",
   "execution_count": 23,
   "metadata": {},
   "outputs": [
    {
     "name": "stdout",
     "output_type": "stream",
     "text": [
      "100 is the square of an 10\n"
     ]
    }
   ],
   "source": [
    "def square(num):\n",
    "    print(num**2,\"is the square of an\",num)\n",
    "square(10)"
   ]
  },
  {
   "cell_type": "code",
   "execution_count": 24,
   "metadata": {},
   "outputs": [
    {
     "name": "stdout",
     "output_type": "stream",
     "text": [
      "20 is even\n"
     ]
    }
   ],
   "source": [
    "def evn_odd(num):\n",
    "    if num%2==0:\n",
    "        print(num,\"its an even number\")\n",
    "    else:\n",
    "        print(num,\"its an odd number\")\n",
    "even_odd(20)"
   ]
  }
 ],
 "metadata": {
  "kernelspec": {
   "display_name": "Python 3",
   "language": "python",
   "name": "python3"
  },
  "language_info": {
   "codemirror_mode": {
    "name": "ipython",
    "version": 3
   },
   "file_extension": ".py",
   "mimetype": "text/x-python",
   "name": "python",
   "nbconvert_exporter": "python",
   "pygments_lexer": "ipython3",
   "version": "3.13.0"
  }
 },
 "nbformat": 4,
 "nbformat_minor": 2
}
